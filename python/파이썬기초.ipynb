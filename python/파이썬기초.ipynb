{
  "nbformat": 4,
  "nbformat_minor": 0,
  "metadata": {
    "colab": {
      "provenance": []
    },
    "kernelspec": {
      "name": "python3",
      "display_name": "Python 3"
    },
    "language_info": {
      "name": "python"
    }
  },
  "cells": [
    {
      "cell_type": "markdown",
      "source": [
        "[시작]\n",
        "\n",
        "- 코드셀에 행번호 표시하기 - 설정>편집기>행번호표시\n",
        "- 2를 100번 곱하면 얼마인지 계산하기 (거듭제곱연산자 **)"
      ],
      "metadata": {
        "id": "PUnBCUfGqdI4"
      }
    },
    {
      "cell_type": "code",
      "source": [
        "결과 = 2**100\n",
        "print(결과)"
      ],
      "metadata": {
        "colab": {
          "base_uri": "https://localhost:8080/"
        },
        "id": "zIzGHB9LqUt4",
        "outputId": "b1a1bb14-cc40-4b81-faa3-4f3419a8cee8"
      },
      "execution_count": null,
      "outputs": [
        {
          "output_type": "stream",
          "name": "stdout",
          "text": [
            "1267650600228229401496703205376\n"
          ]
        }
      ]
    },
    {
      "cell_type": "markdown",
      "source": [
        "[실습]\n",
        "- 첫번째숫자 : 12\n",
        "- 두번째 숫자 : 8\n",
        "\n",
        "1. 두 숫자의 합을 계산하고 결과가 20보다 큰지 확인\n",
        "2. 두 숫자의 곱이 100보다 작거나 같은지 확인\n",
        "3. 첫 번째 숫자가 10보다 크거나 두 번째 숫자가 10보다 작은지 확인\n",
        "4. 두 숫자의 평균이 정확히 10인지 확인\n"
      ],
      "metadata": {
        "id": "HSFD4kLMrzDu"
      }
    },
    {
      "cell_type": "code",
      "source": [
        "첫번째숫자 = 12\n",
        "두번째숫자 = 8\n",
        "\n",
        "합 = 첫번째숫자 + 두번째숫자\n",
        "print('합이 20보다 큰가요?', 합>20)\n",
        "곱 = 첫번째숫자 * 두번째숫자\n",
        "print('곱이 100보다 작거나 같은가요?', 곱 <=100)\n",
        "print('첫 번째 숫자가 10보다 크거나 두 번째 숫자가 10보다 작은가요?', 첫번째숫자>10 or 두번째숫자 <10)\n",
        "\n",
        "평균 = (첫번째숫자+두번째숫자)/2\n",
        "print('평균이 10인가요?', 평균==10)"
      ],
      "metadata": {
        "colab": {
          "base_uri": "https://localhost:8080/"
        },
        "id": "W6W1ywQbsbqR",
        "outputId": "ad25cc99-d28e-4075-f879-3bcf04a18a32"
      },
      "execution_count": null,
      "outputs": [
        {
          "output_type": "stream",
          "name": "stdout",
          "text": [
            "합이 20보다 큰가요? False\n",
            "곱이 100보다 작거나 같은가요? True\n",
            "첫 번째 숫자가 10보다 크거나 두 번째 숫자가 10보다 작은가요? True\n",
            "평균이 10인가요? True\n"
          ]
        }
      ]
    },
    {
      "cell_type": "markdown",
      "source": [
        "\n",
        "[변수]\n",
        "\n",
        "변수 : 데이터를 저장하기 위해 메모리 고간에 이름을 붙인 것\\\n",
        "변수명 : 데이터를 담는 상자의 이름\\\n",
        "변수의 필요성 : 동일한 값을 반복적으로 사용할 때마다 직접 입력하는 대신, 변수에 저장해두고 활용할 수 있다.\n",
        "\n"
      ],
      "metadata": {
        "id": "ZrF_O9hmLV8O"
      }
    },
    {
      "cell_type": "code",
      "execution_count": null,
      "metadata": {
        "id": "zCQe9cGiKm36",
        "colab": {
          "base_uri": "https://localhost:8080/"
        },
        "outputId": "5fd34d75-33d7-4649-effd-b973e0c9848a"
      },
      "outputs": [
        {
          "output_type": "stream",
          "name": "stdout",
          "text": [
            "12345\n",
            "6172.5\n",
            "3086.25\n",
            "2057.5\n"
          ]
        }
      ],
      "source": [
        "num = 12345\n",
        "print(num)\n",
        "print(num/2)\n",
        "print(num/4)\n",
        "print(num/6)\n"
      ]
    },
    {
      "cell_type": "markdown",
      "source": [
        "\n",
        "[자료형]\n",
        "\n",
        "- 기본자료형\n",
        "1. 정수형(Integer int) :정수값을 저장하는 자료형  (num = 10)\n",
        "2. 실수형(float   float) : 부동 소수점 숫자를 저장하는 자료형 (num = 10.4)\n",
        "3. 문자열(string str) : 문자열을 저장하는 자료형 (srt_num = 'Hello world')\n",
        "4. 논리형(Boolean bool) : 참(True), 거짓(False) (bool_num = True)\n",
        "- 추상자료형\n",
        "1. 리스트(list) : 순서가 있는 요소들의 집합을 나타내는 자료형 (lsit_num = [1, 2, 3])\n",
        "2. 튜플(Tuple) : 리스트와 유사하나 선언이후 요소를 수정할 수 없는 자료형 (tuple_num = (1, 2, 3))\n",
        "3. 사전(Dictionary) : 키-값 쌍으로 데이터를 저장하는 자료형 (Dic_num = {'jan' : 1, 'feb':2, 'mar':3})\n",
        "\n",
        "\n"
      ],
      "metadata": {
        "id": "PwUARKF2MC5S"
      }
    },
    {
      "cell_type": "markdown",
      "source": [
        "[실습]\n",
        "- 문자열을 변수에 저장하고, 호출하기\n",
        "- 문자열 'hello world'를 변수 str에 할당하고 호출"
      ],
      "metadata": {
        "id": "FKsO3oJfu70z"
      }
    },
    {
      "cell_type": "code",
      "source": [
        "str = 'hello world'\n",
        "print(str)"
      ],
      "metadata": {
        "id": "pmh_Z8HJOZcO",
        "colab": {
          "base_uri": "https://localhost:8080/"
        },
        "outputId": "1576fd39-6455-476f-c885-fcac33a8df72"
      },
      "execution_count": null,
      "outputs": [
        {
          "output_type": "stream",
          "name": "stdout",
          "text": [
            "hello world\n"
          ]
        }
      ]
    },
    {
      "cell_type": "code",
      "source": [
        "#다음의 변수들을 선언하고 각 변수의 자료형을 확인\n",
        "name = '허윤경'\n",
        "age = 50\n",
        "heigh = 170.5"
      ],
      "metadata": {
        "id": "OAg8SKnsvXcd"
      },
      "execution_count": null,
      "outputs": []
    },
    {
      "cell_type": "code",
      "source": [
        "print(type(name), type(age), type(heigh))"
      ],
      "metadata": {
        "colab": {
          "base_uri": "https://localhost:8080/"
        },
        "id": "VTbEK-eKvm0l",
        "outputId": "ddfbd6d9-bf4b-4e11-85e8-b6d252e629b4"
      },
      "execution_count": null,
      "outputs": [
        {
          "output_type": "stream",
          "name": "stdout",
          "text": [
            "<class 'str'> <class 'int'> <class 'float'>\n"
          ]
        }
      ]
    },
    {
      "cell_type": "code",
      "source": [
        "#정수형자료와 실수형 자료를 연산하면 결과\n",
        "pi = 3.14\n",
        "area = 5 * 5 * pi\n",
        "print(type(area))\n",
        "print(area)"
      ],
      "metadata": {
        "colab": {
          "base_uri": "https://localhost:8080/"
        },
        "id": "wUfrD_aNv5gr",
        "outputId": "45699659-edc4-475d-9c68-746091370dd9"
      },
      "execution_count": null,
      "outputs": [
        {
          "output_type": "stream",
          "name": "stdout",
          "text": [
            "<class 'float'>\n",
            "78.5\n"
          ]
        }
      ]
    },
    {
      "cell_type": "code",
      "source": [
        "#문자와 숫자는 연산할 수 없다\n",
        "\n",
        "ThisYear = 2024\n",
        "MyBirthYear = '1980'\n",
        "age = ThisYear - MyBirthYear #해결방법 age = ThisYear - int(MyBirthYear)\n",
        "print(age)"
      ],
      "metadata": {
        "id": "BwYVmJ69xCMp"
      },
      "execution_count": null,
      "outputs": []
    },
    {
      "cell_type": "markdown",
      "source": [
        "[리스트, 튜플, 딕셔너리]\n",
        "\n",
        "- 상황 : 프로그램을 작성할 때 하나의 변수에 여러값을 저장하고, 특정값을 쉽게 접근할 수 있는 방법이 필요하다.\\\n",
        " 이번 차시에서는 리스트, 퓨플, 딕셔너리를 사용하여 여러 데이터를 효율적으로 저장하고 처리하는 방법을 학습한다.\n",
        "- 작성하고 싶은 프로그램에서 여러개의 데이터를 저장해야 한다면, 리스트, 튜플 또는 딕셔너리를 어떻게 사용할지 생각해보자. 데이터를 구조화하여 효율적으로 관리하기 위해 어떤 자료형이 적합할지 고민해봅시다.\n"
      ],
      "metadata": {
        "id": "caSGA1jQCnAL"
      }
    },
    {
      "cell_type": "code",
      "source": [
        "#리스트 : 여러개의 데이터를 순서대로 저장할 수 있는 자료형, 대괄호 []를 사용하여 선언합니다.\n",
        "\n",
        "student = [95, 90, 85, 80, 93]\n",
        "\n",
        "#리스트내의 각 데이터는 인덱스를 통해 접근\n",
        "\n",
        "print(student[0])\n",
        "\n"
      ],
      "metadata": {
        "id": "d_2p0crgxeg6",
        "colab": {
          "base_uri": "https://localhost:8080/"
        },
        "outputId": "19b6a282-09ce-4f97-fb40-82b904279966"
      },
      "execution_count": 10,
      "outputs": [
        {
          "output_type": "stream",
          "name": "stdout",
          "text": [
            "95\n"
          ]
        }
      ]
    },
    {
      "cell_type": "code",
      "source": [
        "#리스트는 인덱스를 사용하여 특정 항목을 호출하거나, 항목을 변경할 수 있다.\n",
        "#리스트의 항목은 슬라이싱을 통해 일부만 추출할 수 있다.\n",
        "#student = [95, 90, 85, 80, 93]\n",
        "\n",
        "print(student[1:3])\n",
        "\n",
        "#리스트의 항목을 삭제 하려면 del명령어를 사용할 수 있다.\n",
        "\n",
        "del student[0]\n",
        "\n",
        "print(student)"
      ],
      "metadata": {
        "colab": {
          "base_uri": "https://localhost:8080/"
        },
        "id": "Vx8MowLPDa89",
        "outputId": "07b65541-0094-4bd0-f4d4-e0f7e0091fb1"
      },
      "execution_count": 11,
      "outputs": [
        {
          "output_type": "stream",
          "name": "stdout",
          "text": [
            "[90, 85]\n",
            "[90, 85, 80, 93]\n"
          ]
        }
      ]
    },
    {
      "cell_type": "code",
      "source": [
        "#튜플은 리스트와 유사하지만, 한번 생성된 후에는 수정할 수 없는 불변의 자료형\n",
        "#튜플은 소괄호()를 사용하여 선언하거나 괄호없이 선언할 수 있다.\n",
        "\n",
        "numbers = (1,2,3)\n",
        "letters = 'a','b','c'\n",
        "\n",
        "#튜플의 요소도 리스트처럼 인덱스를 통해 접근할 수 있다.\n",
        "\n",
        "print(numbers[0])\n",
        "\n",
        "#튜플은 리스트와 마찬가지로 인덱싱과 슬라이싱이 가능합니다.\n",
        "#튜플은 요소의 수정이나 삭제가 불가능 하므로, 데이터를 안전하게 보호할 수 있다.\n",
        "\n",
        "print(numbers[1:2])\n",
        "numbers[1] = 10\n"
      ],
      "metadata": {
        "colab": {
          "base_uri": "https://localhost:8080/",
          "height": 219
        },
        "id": "JQ_P5EoYEXtQ",
        "outputId": "18996f63-2944-4343-8bce-e49b9bcee5c2"
      },
      "execution_count": 16,
      "outputs": [
        {
          "output_type": "stream",
          "name": "stdout",
          "text": [
            "1\n",
            "(2,)\n"
          ]
        },
        {
          "output_type": "error",
          "ename": "TypeError",
          "evalue": "'tuple' object does not support item assignment",
          "traceback": [
            "\u001b[0;31m---------------------------------------------------------------------------\u001b[0m",
            "\u001b[0;31mTypeError\u001b[0m                                 Traceback (most recent call last)",
            "\u001b[0;32m<ipython-input-16-7cb166597eb6>\u001b[0m in \u001b[0;36m<cell line: 15>\u001b[0;34m()\u001b[0m\n\u001b[1;32m     13\u001b[0m \u001b[0;34m\u001b[0m\u001b[0m\n\u001b[1;32m     14\u001b[0m \u001b[0mprint\u001b[0m\u001b[0;34m(\u001b[0m\u001b[0mnumbers\u001b[0m\u001b[0;34m[\u001b[0m\u001b[0;36m1\u001b[0m\u001b[0;34m:\u001b[0m\u001b[0;36m2\u001b[0m\u001b[0;34m]\u001b[0m\u001b[0;34m)\u001b[0m\u001b[0;34m\u001b[0m\u001b[0;34m\u001b[0m\u001b[0m\n\u001b[0;32m---> 15\u001b[0;31m \u001b[0mnumbers\u001b[0m\u001b[0;34m[\u001b[0m\u001b[0;36m1\u001b[0m\u001b[0;34m]\u001b[0m \u001b[0;34m=\u001b[0m \u001b[0;36m10\u001b[0m\u001b[0;34m\u001b[0m\u001b[0;34m\u001b[0m\u001b[0m\n\u001b[0m",
            "\u001b[0;31mTypeError\u001b[0m: 'tuple' object does not support item assignment"
          ]
        }
      ]
    },
    {
      "cell_type": "code",
      "source": [
        "#딕셔너리는 키(key)와 값(Value)의 쌍으로 데이터를 저장하는 자료형\n",
        "#딕셔너리는 중괄호{}를 사용하여 선언, 각 키와 값은 콜론:으로 구분\n",
        "\n",
        "dict_sample = {'name':'Sally','age': 30}\n",
        "print(dict_sample)\n",
        "\n",
        "#특정키의 값을 호출하기 위해서는 키를 인덱스로 사용한다.\n",
        "print(dict_sample['name'])\n",
        "\n",
        "#딕셔너리에 새로운 키와 값을 추가하거나 기존값을 변경할 수 있다.\n",
        "dict_sample['phone']='010-6436-5684'\n",
        "print(dict_sample)\n",
        "\n",
        "#딕셔너리의 항목을 삭제하려면 del명령어를 사용할 수 있다.\n",
        "del dict_sample['age']\n",
        "print(dict_sample)"
      ],
      "metadata": {
        "colab": {
          "base_uri": "https://localhost:8080/"
        },
        "id": "LHgCwxMyFbnp",
        "outputId": "02fbf208-bb86-43ef-f887-1e183cb550f5"
      },
      "execution_count": 20,
      "outputs": [
        {
          "output_type": "stream",
          "name": "stdout",
          "text": [
            "{'name': 'Sally', 'age': 30}\n",
            "Sally\n",
            "{'name': 'Sally', 'age': 30, 'phone': '010-6436-5684'}\n",
            "{'name': 'Sally', 'phone': '010-6436-5684'}\n"
          ]
        }
      ]
    },
    {
      "cell_type": "markdown",
      "source": [
        "[실습]\n",
        "- 나에 대한 정보 (이름, 좋아하는 숫자, 좋아하는 음식)를 리스트로 선언해 봅시다"
      ],
      "metadata": {
        "id": "drlRXZhlGhhk"
      }
    },
    {
      "cell_type": "code",
      "source": [
        "my_info = ['허윤경',7,'회덮밥']\n",
        "print(my_info[1:3])\n",
        "print(my_info)\n"
      ],
      "metadata": {
        "colab": {
          "base_uri": "https://localhost:8080/"
        },
        "id": "EYs_a-sLDsa_",
        "outputId": "02bcaae3-70a1-456b-e31d-538ada1adfe5"
      },
      "execution_count": 21,
      "outputs": [
        {
          "output_type": "stream",
          "name": "stdout",
          "text": [
            "['허윤경', 49, '회덥밥']\n"
          ]
        }
      ]
    },
    {
      "cell_type": "code",
      "source": [
        "#위 문제에서 선언한 리스트에서 좋아하는 숫자부터 좋아하는 음식까지의 요소를 한번에 호출\n",
        "print(my_info[1:])"
      ],
      "metadata": {
        "colab": {
          "base_uri": "https://localhost:8080/"
        },
        "id": "EDCfeSFxHDr8",
        "outputId": "018287a2-e153-4a13-a38a-eff3d806e705"
      },
      "execution_count": 24,
      "outputs": [
        {
          "output_type": "stream",
          "name": "stdout",
          "text": [
            "[49, '회덥밥']\n"
          ]
        }
      ]
    },
    {
      "cell_type": "markdown",
      "source": [
        "[실습]\n",
        "- 나에 대한 정보 (이름, 좋아하는 숫자, 좋아하는 음식)를 딕셔너리로 선언해 봅시다"
      ],
      "metadata": {
        "id": "ub7toIUvKLe6"
      }
    },
    {
      "cell_type": "code",
      "source": [
        "my_info_dict = {'name':'허윤경', 'favorite_number': 7, 'favorite_food':'회덮밥'}\n",
        "print(my_info_dict)"
      ],
      "metadata": {
        "colab": {
          "base_uri": "https://localhost:8080/"
        },
        "id": "2zBCG5DoHmuI",
        "outputId": "5612c13f-cfbc-45aa-ae8b-eecbe3b6df82"
      },
      "execution_count": 27,
      "outputs": [
        {
          "output_type": "stream",
          "name": "stdout",
          "text": [
            "{'name': '허윤경', 'favorite_number': 7, 'favorite_food': '회덮밥'}\n"
          ]
        }
      ]
    },
    {
      "cell_type": "code",
      "source": [
        "#위 딕셔너리에서 좋아하는 숫자의 값을 호출\n",
        "print(my_info_dict['favorite_number'])\n",
        "\n",
        "#위 딕셔너리에서 다음의 sore_list리스트를 추가해보자\n",
        "score_list = [100, 90, 80]\n",
        "my_info_dict['scores'] = score_list   #key값은 변수값 정의하듯이 입력하면 된다.\n",
        "print(my_info_dict)"
      ],
      "metadata": {
        "colab": {
          "base_uri": "https://localhost:8080/"
        },
        "id": "tTD_vMfXKOAD",
        "outputId": "482201ce-283f-44bf-f01f-78ce86f9eb75"
      },
      "execution_count": 30,
      "outputs": [
        {
          "output_type": "stream",
          "name": "stdout",
          "text": [
            "7\n",
            "{'name': '허윤경', 'favorite_number': 7, 'favorite_food': '회덮밥', 'scores': [100, 90, 80], 'scorest': [100, 90, 80]}\n"
          ]
        }
      ]
    },
    {
      "cell_type": "markdown",
      "source": [
        "[입출력]\n",
        "- print()함수를 사용해 데이터를 출력하고,\n",
        "- input()함수를 통해 사용자로부터 데이터를 입력 받는 방법을 학습한다.\n",
        "- 또한 데이터를 파일에 저장하거나 파일로 부터 데이터를 읽어오는 입출력에 대해서도 알아보자\n"
      ],
      "metadata": {
        "id": "p34_oUyoQQv0"
      }
    },
    {
      "cell_type": "code",
      "source": [
        "# 프로그램을 작성할 때, 사용자가 입력한 데이터를 처리하여 그 결과를 화면에 출력 하거나 파일에 저장하는 것이 중요하다.\n",
        "# 이번에는 파이썬의 표준 입출력과 파일입출력을 통해 이러한 작업을 수행하는 방법을 학습합니다.\n",
        "\n",
        "# 만들고 싶은 프로그램에서 어떤 데이터를 입력받고 그 결과를 어떻게 출력할 지 생각해봅시다.\n",
        "#출력된 결과를 파일로 저장하는 방법을 생각해 봅시다.\n",
        "\n",
        "\n",
        "#코등의 결과를 확인하는 가장 기본적인 방법은 print()함수가 있다.\n",
        "\n",
        "print('Hello, world')\n",
        "\n",
        "#여러개의 자료나 변수를 한번에 출력할 떄는 쉼표(,) 또는 연산자 +를 사용\n",
        "\n",
        "print('The result is', 5 + 3)\n",
        "\n",
        "#줄 바꾸지 않고 출력하기\n",
        "#'end' 인자를 사용해 줄 바꿈 없이 여러 출력물을 한줄에 출력할 수 있다.\n",
        "\n",
        "print('Hello', end=' ')\n",
        "print('world!')"
      ],
      "metadata": {
        "colab": {
          "base_uri": "https://localhost:8080/"
        },
        "id": "pReiZWm4LUT4",
        "outputId": "5c32368e-3c85-412a-a1fb-2204bcf9b153"
      },
      "execution_count": 34,
      "outputs": [
        {
          "output_type": "stream",
          "name": "stdout",
          "text": [
            "Hello, world\n",
            "The result is 8\n",
            "Hello world!\n"
          ]
        }
      ]
    },
    {
      "cell_type": "code",
      "source": [
        "#형식지정 출력 : 문자열에 데이터를 삽입하거나 형식을 지정하여 출력\n",
        "# '%'연산자를 사용하여 데이터의 형식을 지정한다.\n",
        "\n",
        "print('Name : %s, Age : %d' %('Alice',30))\n",
        "\n",
        "#'format()' 함수를 사용하여 출력 위치와 형식을 더 자유롭게 지정할 수 있다.\n",
        "\n",
        "print('Name : {}, Age : {}'.format('Alice',30))"
      ],
      "metadata": {
        "colab": {
          "base_uri": "https://localhost:8080/"
        },
        "id": "S1cYsSvgSU-u",
        "outputId": "3c4de816-f0f6-42ac-e9d3-2dc09af98068"
      },
      "execution_count": 37,
      "outputs": [
        {
          "output_type": "stream",
          "name": "stdout",
          "text": [
            "Name : Alice, Age : 30\n",
            "Name : Alice, Age ; 30\n"
          ]
        }
      ]
    },
    {
      "cell_type": "code",
      "source": [
        "#키보드 입력\n",
        "#사용자가 키보드로 입력한 데이터를 받아오는데 사용되는 함수는 input()\n",
        "\n",
        "name = input('Enter your name : ')\n",
        "print('Hello, ' + name)\n",
        "\n",
        "#입력받은 데이터는 기본적으로 문자열로 처리되며, 이를 숫자로 사용하려면 형 변환이 필요\n",
        "\n",
        "age = int(input('Enter your age : '))\n",
        "print('Next year, you will be', age + 1)"
      ],
      "metadata": {
        "colab": {
          "base_uri": "https://localhost:8080/"
        },
        "id": "6KXnIVTaW9n4",
        "outputId": "3ca6bc2d-f5c7-4a1a-cbd8-a1bf6ad9cb97"
      },
      "execution_count": 41,
      "outputs": [
        {
          "output_type": "stream",
          "name": "stdout",
          "text": [
            "Enter your name : 허윤경\n",
            "Hello, 허윤경\n",
            "Enter your age : 49\n",
            "Next year, you will be 50\n"
          ]
        }
      ]
    },
    {
      "cell_type": "code",
      "source": [
        "#파일입출력\n",
        "#파일쓰기 : 데이터를 화면에 출력하는 대신 파일에 저장하려면 파일쓰기 모드로 파일을 열고,\n",
        "#데이터를 쓰는 함수를 사용한다.\n",
        "\n",
        "f = open('test.txt','w')\n",
        "f.write('Hello, world!')\n",
        "f.close()"
      ],
      "metadata": {
        "id": "rkGftqCaXo4_"
      },
      "execution_count": 44,
      "outputs": []
    },
    {
      "cell_type": "code",
      "source": [
        "#파일읽기\n",
        "#파일에 저장된 데이터를 읽어오려면 파일 읽기 모드로 파일을 열고,\n",
        "#데이터를 읽는 함수를 사용한다.\n",
        "\n",
        "f = open('test.txt','r')\n",
        "data = f.read()\n",
        "f.close()\n",
        "\n",
        "print(data)"
      ],
      "metadata": {
        "colab": {
          "base_uri": "https://localhost:8080/"
        },
        "id": "J4V224rPX7--",
        "outputId": "a68a2769-0995-4cee-c572-437a59974e0c"
      },
      "execution_count": 46,
      "outputs": [
        {
          "output_type": "stream",
          "name": "stdout",
          "text": [
            "Hello, world!\n"
          ]
        }
      ]
    },
    {
      "cell_type": "markdown",
      "source": [
        "[실습]\n",
        "- 화면에 'Hello, Python!'을 출력해보시오\n",
        "- 사용자의 이름을 입력받아 'Hello, [이름]!'을 출력하는 프로그램 작성하기\n",
        "- 사용자가 입력한 두 숫자를 더한 결과를 출력하는 프로그램 작성하기\n",
        "- hello.txt 파일에 'I am a high school student'를 쓰고, 그파일을 읽어와 출력하는 프로그램을 작성"
      ],
      "metadata": {
        "id": "wHkijuIIYceR"
      }
    },
    {
      "cell_type": "code",
      "source": [
        "#화면에 'Hello, Python!'\n",
        "print('Hello, Python!')"
      ],
      "metadata": {
        "id": "9LPXrWm_YcPS"
      },
      "execution_count": null,
      "outputs": []
    },
    {
      "cell_type": "code",
      "source": [
        "#사용자의 이름을 입력받아 'Hello,[이름]!'을 출력하는 프로그램 작성하기\n",
        "\n",
        "name = input('Enter your name : ')\n",
        "print('Hello, ' + name + '!')"
      ],
      "metadata": {
        "colab": {
          "base_uri": "https://localhost:8080/"
        },
        "id": "PdniAUQgYXzG",
        "outputId": "33b4ca8f-91fb-48d0-9860-159132b38a01"
      },
      "execution_count": 47,
      "outputs": [
        {
          "output_type": "stream",
          "name": "stdout",
          "text": [
            "Enter your name : 허윤경\n",
            "Hello, 허윤경!\n"
          ]
        }
      ]
    },
    {
      "cell_type": "code",
      "source": [
        "#사용자가 입력한 두 숫자를 더한 결과를 출력하는 프로그램 작성하기\n",
        "\n",
        "num1 = int(input('Enter firat number :'))\n",
        "num2 = int(input('Enter second number :'))\n",
        "sum = num1 + num2\n",
        "print('Sum :',sum)"
      ],
      "metadata": {
        "colab": {
          "base_uri": "https://localhost:8080/"
        },
        "id": "3lp9xAC9ZMC6",
        "outputId": "755dc7b4-1531-47a6-8426-789b4e9dd15e"
      },
      "execution_count": 50,
      "outputs": [
        {
          "output_type": "stream",
          "name": "stdout",
          "text": [
            "Enter firat number :10\n",
            "Enter second number :20\n",
            "Sum : 30\n"
          ]
        }
      ]
    },
    {
      "cell_type": "code",
      "source": [
        "#hello.txt 파일에 'I am a high school student'를 쓰고, 그파일을 읽어와 출력하는 프로그램을 작성\n",
        "\n",
        "myfile = open('hello.txt','w')\n",
        "myfile.write('I am a high school student')\n",
        "myfile.close()\n",
        "\n",
        "\n",
        "#e데이터 읽기\n",
        "myfile = open('hello.txt','r')\n",
        "data = myfile.read()\n",
        "f.close()\n",
        "print(data)"
      ],
      "metadata": {
        "colab": {
          "base_uri": "https://localhost:8080/"
        },
        "id": "ng4BKg-3Z3tD",
        "outputId": "a3517e90-2aaa-4b4a-c409-3373b107e3be"
      },
      "execution_count": 53,
      "outputs": [
        {
          "output_type": "stream",
          "name": "stdout",
          "text": [
            "I am a high school student\n"
          ]
        }
      ]
    },
    {
      "cell_type": "markdown",
      "source": [
        "[제어문]\n",
        "- 프로그램이 특정 조건을 만족할 때 실행할 코드나 반복할 코드를 정의할 수 있는 강력한 도구\n",
        "- if, for, while문"
      ],
      "metadata": {
        "id": "BwVCpjpycIZq"
      }
    },
    {
      "cell_type": "code",
      "source": [
        "#프로그램을 작성할 때 특정 조건에 따라 실행 될 코드가 달라지거나\n",
        "#특정 작업을 반복해야 할 때 제어문이 필요함\n",
        "#제어문을 사용하여 프로그램의 흐름을 제어하는 방법을 학습합니다.\n",
        "\n",
        "#프로그램에서 특정 조건에 따라 실행될 코드나 반복될 작업이 무엇인지 생각하고, 제어문을 사용해 이 작업을 어떻게 구현 할 수 있을지 생각해 봅니다.\n",
        "\n",
        "\n",
        "#if\n",
        "\n",
        "score = 75\n",
        "if score >= 90 :\n",
        "  print('A')\n",
        "else:\n",
        "  print('B')\n"
      ],
      "metadata": {
        "colab": {
          "base_uri": "https://localhost:8080/"
        },
        "id": "43Q0JUZBcHx2",
        "outputId": "304c211a-a184-4bb8-b9e3-7bb1fcc6d3bc"
      },
      "execution_count": 55,
      "outputs": [
        {
          "output_type": "stream",
          "name": "stdout",
          "text": [
            "B\n"
          ]
        }
      ]
    },
    {
      "cell_type": "code",
      "source": [
        "score = 80\n",
        "if score >= 90 :\n",
        "  print('A')\n",
        "elif score >= 80 :\n",
        "  print('B')\n",
        "else :\n",
        "  print('C')"
      ],
      "metadata": {
        "colab": {
          "base_uri": "https://localhost:8080/"
        },
        "id": "iIlIfJCQdSd9",
        "outputId": "615a4ab3-504c-42e8-8901-60b7aa8595bd"
      },
      "execution_count": 56,
      "outputs": [
        {
          "output_type": "stream",
          "name": "stdout",
          "text": [
            "B\n"
          ]
        }
      ]
    },
    {
      "cell_type": "code",
      "source": [
        "#키가 130cm이상이면 '혼자 탑승할 수 있습니다'\n",
        "#키가 130cm미만이rh,110cm이상이면 '보호자와 함께 탑승할 수 있습니다.'\n",
        "#키가 110cm미만이면 '탑승할 수 없습니다.'로 출력하는 프로그램 작성하기\n",
        "\n",
        "height = int(input('키를 입력하세요(단위는 빼고 숫자만):'))\n",
        "\n",
        "if height >= 130:\n",
        "  print('혼자 탑승할 수 있습니다.')\n",
        "\n",
        "elif height >= 110:\n",
        "  print('보호자와 함께 탑승할 수 있습니다.')\n",
        "\n",
        "else :\n",
        "  print('탑승할 수 없습니다.')"
      ],
      "metadata": {
        "colab": {
          "base_uri": "https://localhost:8080/"
        },
        "id": "WfErk4Nyf7R1",
        "outputId": "fe34842c-3529-4266-d8de-5ebc81673799"
      },
      "execution_count": 68,
      "outputs": [
        {
          "output_type": "stream",
          "name": "stdout",
          "text": [
            "키를 입력하세요(단위는 빼고 숫자만):100\n",
            "탑승할 수 없습니다.\n"
          ]
        }
      ]
    },
    {
      "cell_type": "code",
      "source": [
        "#반복을 위한 for문\n",
        "#for문은 지정된 범위나 시퀀스의 각 요소에 대해 반복 작업을 수행\n",
        "#range()함수와 함께 사용하기\n",
        "\n",
        "for i in range(5) :\n",
        "  print(i)"
      ],
      "metadata": {
        "colab": {
          "base_uri": "https://localhost:8080/"
        },
        "id": "PDkgYq03dlWn",
        "outputId": "4b05334c-00b0-4567-e146-0e9ed326293a"
      },
      "execution_count": 57,
      "outputs": [
        {
          "output_type": "stream",
          "name": "stdout",
          "text": [
            "0\n",
            "1\n",
            "2\n",
            "3\n",
            "4\n"
          ]
        }
      ]
    },
    {
      "cell_type": "code",
      "source": [
        "#range()함수와 함께 사용하기\n",
        "\n",
        "for i in range(1,10,2):\n",
        "  print(i)"
      ],
      "metadata": {
        "colab": {
          "base_uri": "https://localhost:8080/"
        },
        "id": "3P5q-J7Sd3xw",
        "outputId": "d189c375-b200-44bb-9917-76d0ec1f66c9"
      },
      "execution_count": 59,
      "outputs": [
        {
          "output_type": "stream",
          "name": "stdout",
          "text": [
            "1\n",
            "3\n",
            "5\n",
            "7\n",
            "9\n"
          ]
        }
      ]
    },
    {
      "cell_type": "code",
      "source": [
        "#중첩for문\n",
        "#for문안에 또다른 for문을 작성해 반복을 중첩할 수 있다.\n",
        "#입력되는 숫자에 해당하는 구구단을 출력하는 프로그램\n",
        "\n",
        "dan = int(input('구구단 몇 단을 출력할까요?'))\n",
        "for i in range(1,10):\n",
        "  print('{0} x {1} = {2}'.format(dan, i+1, dan*(i+1)))"
      ],
      "metadata": {
        "colab": {
          "base_uri": "https://localhost:8080/"
        },
        "id": "2LenluDKeJMm",
        "outputId": "529d5194-bb92-41ce-d091-abea464be004"
      },
      "execution_count": 60,
      "outputs": [
        {
          "output_type": "stream",
          "name": "stdout",
          "text": [
            "구구단 몇 단을 출력할까요?4\n",
            "4 x 2 = 8\n",
            "4 x 3 = 12\n",
            "4 x 4 = 16\n",
            "4 x 5 = 20\n",
            "4 x 6 = 24\n",
            "4 x 7 = 28\n",
            "4 x 8 = 32\n",
            "4 x 9 = 36\n",
            "4 x 10 = 40\n"
          ]
        }
      ]
    },
    {
      "cell_type": "code",
      "source": [
        "#구구단 모두 출력\n",
        "for i in range(2,10):\n",
        "  for j in range(1, 10):\n",
        "    print('{0} x {1} = {2}'.format(i, j, i*j))"
      ],
      "metadata": {
        "id": "wNDBDsrae5yC"
      },
      "execution_count": null,
      "outputs": []
    },
    {
      "cell_type": "code",
      "source": [
        "#while문은 특정 조건이 참인동안 코드를 반복 실행합니다.\n",
        "\n",
        "count = 0\n",
        "while count <5 :\n",
        "  print(count)\n",
        "  count += 1"
      ],
      "metadata": {
        "colab": {
          "base_uri": "https://localhost:8080/"
        },
        "id": "JKQi9s4efbbi",
        "outputId": "0329706f-c91e-4195-a4f9-8420e732e588"
      },
      "execution_count": 64,
      "outputs": [
        {
          "output_type": "stream",
          "name": "stdout",
          "text": [
            "0\n",
            "1\n",
            "2\n",
            "3\n",
            "4\n"
          ]
        }
      ]
    },
    {
      "cell_type": "code",
      "source": [
        "while True :\n",
        "  command = input('명령을 입력하세요 (종료하려면 exit):')\n",
        "  if command == 'exit':\n",
        "    break"
      ],
      "metadata": {
        "colab": {
          "base_uri": "https://localhost:8080/"
        },
        "id": "B8xlsk-ffn7f",
        "outputId": "b1ceceb4-a590-4cee-d4fa-f2d513fa79d0"
      },
      "execution_count": 65,
      "outputs": [
        {
          "name": "stdout",
          "output_type": "stream",
          "text": [
            "명령을 입력하세요 (종료하려면 exit):1\n",
            "명령을 입력하세요 (종료하려면 exit):exit\n"
          ]
        }
      ]
    }
  ]
}